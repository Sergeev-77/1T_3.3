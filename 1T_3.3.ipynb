{
 "cells": [
  {
   "cell_type": "code",
   "execution_count": 1,
   "id": "e56bc587",
   "metadata": {
    "pycharm": {
     "name": "#%%\n"
    }
   },
   "outputs": [],
   "source": [
    "import pyspark.sql.types as T\n",
    "import pyspark.sql.functions as F\n",
    "from random import randint, choice\n",
    "from datetime import datetime"
   ]
  },
  {
   "cell_type": "code",
   "execution_count": 2,
   "id": "ca6105c0",
   "metadata": {
    "pycharm": {
     "name": "#%%\n"
    }
   },
   "outputs": [
    {
     "data": {
      "text/plain": [
       "DataFrame[key: string, value: string]"
      ]
     },
     "execution_count": 2,
     "metadata": {},
     "output_type": "execute_result"
    }
   ],
   "source": [
    "spark = SparkSession.builder.master(\"local\").\\\n",
    "appName(\"Word Count\").\\\n",
    "config(\"spark.drive.bindAddress\", \"localhost\").\\\n",
    "config(\"spark.ui.port\", \"4040\").\\\n",
    "getOrCreate()\n",
    "\n",
    "spark.sql('set spark.sql.caseSensitive=true')"
   ]
  },
  {
   "cell_type": "markdown",
   "id": "76792c75",
   "metadata": {
    "pycharm": {
     "name": "#%% md\n"
    }
   },
   "source": [
    "# Создайте схему будущего фрейма данных."
   ]
  },
  {
   "cell_type": "code",
   "execution_count": 3,
   "id": "aa7ab392",
   "metadata": {
    "pycharm": {
     "name": "#%%\n"
    }
   },
   "outputs": [],
   "source": [
    "schema = T.StructType ([\n",
    "    T.StructField(\"id\", T.IntegerType(), True),\n",
    "    T.StructField(\"timestamp\", T.IntegerType(), True),\n",
    "    T.StructField(\"type\", T.StringType(), True),\n",
    "    T.StructField(\"page_id\", T.IntegerType(), True),\n",
    "    T.StructField(\"tag\", T.StringType(), True),\n",
    "    T.StructField(\"sign\", T.BooleanType(), True),\n",
    "])"
   ]
  },
  {
   "cell_type": "markdown",
   "id": "00bd13f2",
   "metadata": {
    "pycharm": {
     "name": "#%% md\n"
    }
   },
   "source": [
    " # Создайте датафрейм с описанной выше схемой данных."
   ]
  },
  {
   "cell_type": "code",
   "execution_count": 4,
   "id": "1a9e7066",
   "metadata": {
    "pycharm": {
     "name": "#%%\n"
    }
   },
   "outputs": [
    {
     "name": "stdout",
     "output_type": "stream",
     "text": [
      "root\n",
      " |-- id: integer (nullable = true)\n",
      " |-- timestamp: integer (nullable = true)\n",
      " |-- type: string (nullable = true)\n",
      " |-- page_id: integer (nullable = true)\n",
      " |-- tag: string (nullable = true)\n",
      " |-- sign: boolean (nullable = true)\n",
      "\n"
     ]
    }
   ],
   "source": [
    "df = spark.createDataFrame([],\n",
    "    schema=schema)\n",
    "df.printSchema()"
   ]
  },
  {
   "cell_type": "markdown",
   "id": "e847d028",
   "metadata": {
    "pycharm": {
     "name": "#%% md\n"
    }
   },
   "source": [
    " # Наполните датафрейм данными."
   ]
  },
  {
   "cell_type": "code",
   "execution_count": 5,
   "id": "150a9e48",
   "metadata": {
    "pycharm": {
     "name": "#%%\n"
    }
   },
   "outputs": [],
   "source": [
    "data = []\n",
    "users, articles = dict(), dict()\n",
    "for _ in range(1000):\n",
    "    id_ = randint(12345, 12385)\n",
    "    timestamp = randint(1667627426, 1667627426+3600*24)\n",
    "    type_ = choice(['click', 'visit', 'scroll', 'move'])\n",
    "    page_id = randint(101, 121)\n",
    "    \n",
    "    if page_id in articles.keys():\n",
    "        tag = articles[page_id]\n",
    "    else:        \n",
    "        tag = choice(['Sport', 'Politics', 'Medicine', 'Movie'])\n",
    "        articles[page_id] = tag\n",
    "    \n",
    "    if id_ in users.keys():\n",
    "        sign = users[id_]\n",
    "    else:        \n",
    "        sign = bool(randint(0, 1))\n",
    "        users[id_] = sign\n",
    "        \n",
    "    data.append((id_, timestamp, type_, page_id, tag, sign))\n",
    "\n",
    "df = spark.createDataFrame(data=data, schema=schema)    "
   ]
  },
  {
   "cell_type": "code",
   "execution_count": 6,
   "id": "e5dccf3b",
   "metadata": {
    "pycharm": {
     "name": "#%%\n"
    }
   },
   "outputs": [
    {
     "name": "stdout",
     "output_type": "stream",
     "text": [
      "+-----+----------+------+-------+--------+-----+\n",
      "|   id| timestamp|  type|page_id|     tag| sign|\n",
      "+-----+----------+------+-------+--------+-----+\n",
      "|12364|1667682874|scroll|    113|   Movie| true|\n",
      "|12381|1667697061|  move|    101|   Sport|false|\n",
      "|12365|1667693267|scroll|    121|Politics|false|\n",
      "|12372|1667674887|  move|    105|Politics| true|\n",
      "|12359|1667707763|scroll|    111|Politics|false|\n",
      "|12375|1667627752|  move|    120|   Movie| true|\n",
      "|12382|1667688045| visit|    118|   Movie| true|\n",
      "|12347|1667705717| visit|    103|Medicine|false|\n",
      "|12351|1667638998| click|    115|   Movie| true|\n",
      "|12360|1667639666|scroll|    119|   Movie|false|\n",
      "|12353|1667699485| visit|    121|Politics| true|\n",
      "|12363|1667681706| click|    109|Politics|false|\n",
      "|12355|1667628651| visit|    106|   Movie|false|\n",
      "|12369|1667677245| click|    106|   Movie| true|\n",
      "|12355|1667644555| click|    111|Politics|false|\n",
      "|12366|1667702344|scroll|    120|   Movie|false|\n",
      "|12382|1667680120| visit|    111|Politics| true|\n",
      "|12381|1667697916| click|    116|   Sport|false|\n",
      "|12361|1667692079| click|    101|   Sport|false|\n",
      "|12378|1667666245| click|    102|   Sport|false|\n",
      "+-----+----------+------+-------+--------+-----+\n",
      "only showing top 20 rows\n",
      "\n"
     ]
    }
   ],
   "source": [
    "df.show()"
   ]
  },
  {
   "cell_type": "markdown",
   "id": "1001a368",
   "metadata": {
    "pycharm": {
     "name": "#%% md\n"
    }
   },
   "source": [
    " # Вывести топ-5 самых активных посетителей сайта"
   ]
  },
  {
   "cell_type": "code",
   "execution_count": 7,
   "id": "8853dbe7",
   "metadata": {
    "pycharm": {
     "name": "#%%\n"
    }
   },
   "outputs": [
    {
     "name": "stdout",
     "output_type": "stream",
     "text": [
      "+-----+-----+\n",
      "|   id|count|\n",
      "+-----+-----+\n",
      "|12362|   11|\n",
      "|12346|   11|\n",
      "|12382|   10|\n",
      "|12363|   10|\n",
      "|12345|   10|\n",
      "+-----+-----+\n",
      "only showing top 5 rows\n",
      "\n"
     ]
    }
   ],
   "source": [
    "top_users = df[df['type'] == 'visit'].groupBy('id').count()\n",
    "top_users.sort(top_users['count'].desc()).show(5)"
   ]
  },
  {
   "cell_type": "markdown",
   "id": "cd8323c4",
   "metadata": {
    "pycharm": {
     "name": "#%% md\n"
    }
   },
   "source": [
    "# Посчитать процент посетителей, у которых есть ЛК"
   ]
  },
  {
   "cell_type": "code",
   "execution_count": 8,
   "id": "a97e337c",
   "metadata": {
    "pycharm": {
     "name": "#%%\n"
    }
   },
   "outputs": [
    {
     "data": {
      "text/plain": [
       "56.09756097560975"
      ]
     },
     "execution_count": 8,
     "metadata": {},
     "output_type": "execute_result"
    }
   ],
   "source": [
    "float(df[df['sign']].select('id').distinct().count()) * 100 / df.select('id').distinct().count()"
   ]
  },
  {
   "cell_type": "markdown",
   "id": "30f4c36e",
   "metadata": {
    "pycharm": {
     "name": "#%% md\n"
    }
   },
   "source": [
    "  # Вывести топ-5 страниц сайта по показателю общего кол-ва кликов на данной странице"
   ]
  },
  {
   "cell_type": "code",
   "execution_count": 9,
   "id": "0ae64b3a",
   "metadata": {
    "pycharm": {
     "name": "#%%\n"
    }
   },
   "outputs": [
    {
     "name": "stdout",
     "output_type": "stream",
     "text": [
      "+-------+-----+\n",
      "|page_id|count|\n",
      "+-------+-----+\n",
      "|    115|   15|\n",
      "|    108|   15|\n",
      "|    107|   15|\n",
      "|    119|   15|\n",
      "|    117|   15|\n",
      "+-------+-----+\n",
      "only showing top 5 rows\n",
      "\n"
     ]
    }
   ],
   "source": [
    "top_pages = df[df['type'] == 'click'].groupBy('page_id').count()\n",
    "top_pages.sort(top_pages['count'].desc()).show(5)"
   ]
  },
  {
   "cell_type": "markdown",
   "id": "a932178e",
   "metadata": {
    "pycharm": {
     "name": "#%% md\n"
    }
   },
   "source": [
    "# Добавьте столбец к фрейму данных со значением временного диапазона в рамках суток с размером окна – 4 часа(0-4, 4-8, 8-12 и т.д.)"
   ]
  },
  {
   "cell_type": "code",
   "execution_count": 10,
   "id": "871d41f4",
   "metadata": {
    "pycharm": {
     "name": "#%%\n"
    }
   },
   "outputs": [],
   "source": [
    "@F.udf(returnType=T.StringType())\n",
    "def interval_it(timestamp,\n",
    "               ints = {\n",
    "                   0: '0-4',\n",
    "                   1: '4-8',\n",
    "                   2: '8-12',\n",
    "                   3: '12-16',\n",
    "                   4: '16-20',\n",
    "                   5: '20-24',\n",
    "                    }\n",
    "               ):\n",
    "    id = datetime.fromtimestamp(timestamp).hour // 4\n",
    "    return ints[id]\n",
    "\n",
    "df = df.withColumn('interval', interval_it('timestamp')) "
   ]
  },
  {
   "cell_type": "code",
   "execution_count": 11,
   "id": "2a44dd8b",
   "metadata": {
    "scrolled": true,
    "pycharm": {
     "name": "#%%\n"
    }
   },
   "outputs": [
    {
     "name": "stdout",
     "output_type": "stream",
     "text": [
      "+-----+----------+------+-------+--------+-----+--------+\n",
      "|   id| timestamp|  type|page_id|     tag| sign|interval|\n",
      "+-----+----------+------+-------+--------+-----+--------+\n",
      "|12364|1667682874|scroll|    113|   Movie| true|     0-4|\n",
      "|12381|1667697061|  move|    101|   Sport|false|     4-8|\n",
      "|12365|1667693267|scroll|    121|Politics|false|     0-4|\n",
      "|12372|1667674887|  move|    105|Politics| true|   20-24|\n",
      "|12359|1667707763|scroll|    111|Politics|false|     4-8|\n",
      "+-----+----------+------+-------+--------+-----+--------+\n",
      "only showing top 5 rows\n",
      "\n"
     ]
    }
   ],
   "source": [
    "df.show(5)"
   ]
  },
  {
   "cell_type": "markdown",
   "id": "8d951ca5",
   "metadata": {
    "pycharm": {
     "name": "#%% md\n"
    }
   },
   "source": [
    " # Выведите временной промежуток на основе предыдущего задания, в течение которого было больше всего активностей на сайте. "
   ]
  },
  {
   "cell_type": "code",
   "execution_count": 12,
   "id": "08d0a0f4",
   "metadata": {
    "pycharm": {
     "name": "#%%\n"
    }
   },
   "outputs": [
    {
     "name": "stdout",
     "output_type": "stream",
     "text": [
      "+--------+-----+\n",
      "|interval|count|\n",
      "+--------+-----+\n",
      "|     0-4|  188|\n",
      "+--------+-----+\n",
      "only showing top 1 row\n",
      "\n"
     ]
    }
   ],
   "source": [
    "top_int = df.groupBy('interval').count()\n",
    "top_int.sort(top_int['count'].desc()).show(1)"
   ]
  },
  {
   "cell_type": "markdown",
   "id": "c9d020df",
   "metadata": {
    "pycharm": {
     "name": "#%% md\n"
    }
   },
   "source": [
    "# Создайте второй фрейм данных, который будет содержать информацию о ЛК посетителя сайта"
   ]
  },
  {
   "cell_type": "code",
   "execution_count": 13,
   "id": "ef21f7d5",
   "metadata": {
    "pycharm": {
     "name": "#%%\n"
    }
   },
   "outputs": [],
   "source": [
    "schema = T.StructType ([\n",
    "    T.StructField(\"Id\", T.IntegerType(), True),\n",
    "    T.StructField(\"gender\", T.StringType(), True),\n",
    "    T.StructField(\"User_id\", T.IntegerType(), True),\n",
    "    T.StructField(\"ФИО\", T.StringType(), True),\n",
    "    T.StructField(\"dob\", T.DateType(), True),\n",
    "    T.StructField(\"creation_date\", T.DateType(), True),\n",
    "])"
   ]
  },
  {
   "cell_type": "code",
   "execution_count": 14,
   "id": "4e662f65",
   "metadata": {
    "pycharm": {
     "name": "#%%\n"
    }
   },
   "outputs": [],
   "source": [
    "data = []\n",
    "for key, value in users.items():\n",
    "    if value:\n",
    "        id_ = randint(0, 100000000)\n",
    "        gender = choice(['M', 'F'])\n",
    "        dob = datetime(randint(1960, 2000), randint(1, 12),randint(1, 28)).date()\n",
    "        creation_date = datetime(randint(2020, 2021), randint(1, 12),randint(1, 28)).date()\n",
    "        data.append((id_, gender, key, 'name_'+str(id_), dob, creation_date))\n",
    "df_lk = spark.createDataFrame(data=data, schema=schema)            "
   ]
  },
  {
   "cell_type": "code",
   "execution_count": 15,
   "id": "7d65a762",
   "metadata": {
    "pycharm": {
     "name": "#%%\n"
    }
   },
   "outputs": [
    {
     "name": "stdout",
     "output_type": "stream",
     "text": [
      "+--------+------+-------+-------------+----------+-------------+\n",
      "|      Id|gender|User_id|          ФИО|       dob|creation_date|\n",
      "+--------+------+-------+-------------+----------+-------------+\n",
      "|15882360|     M|  12364|name_15882360|1994-08-01|   2021-12-28|\n",
      "|12823211|     F|  12372|name_12823211|1974-10-01|   2021-08-13|\n",
      "|17671183|     M|  12375|name_17671183|1975-03-17|   2021-10-22|\n",
      "|51209904|     F|  12382|name_51209904|1975-03-13|   2020-07-26|\n",
      "| 4599397|     M|  12351| name_4599397|1969-10-01|   2021-11-15|\n",
      "+--------+------+-------+-------------+----------+-------------+\n",
      "only showing top 5 rows\n",
      "\n"
     ]
    }
   ],
   "source": [
    "df_lk.show(5)"
   ]
  },
  {
   "cell_type": "markdown",
   "id": "91f6c902",
   "metadata": {
    "pycharm": {
     "name": "#%% md\n"
    }
   },
   "source": [
    "# Вывести фамилии посетителей, которые читали хотя бы одну новость про спорт."
   ]
  },
  {
   "cell_type": "code",
   "execution_count": 16,
   "id": "5e69fd31",
   "metadata": {
    "pycharm": {
     "name": "#%%\n"
    }
   },
   "outputs": [],
   "source": [
    "df_joined = df.join(df_lk, df.id == df_lk.User_id, 'inner')"
   ]
  },
  {
   "cell_type": "code",
   "execution_count": 17,
   "id": "75977aea",
   "metadata": {
    "pycharm": {
     "name": "#%%\n"
    }
   },
   "outputs": [
    {
     "name": "stdout",
     "output_type": "stream",
     "text": [
      "+-------------+\n",
      "|          ФИО|\n",
      "+-------------+\n",
      "|name_26689758|\n",
      "|name_76003725|\n",
      "|name_90232334|\n",
      "| name_4599397|\n",
      "|name_51209904|\n",
      "|name_19236785|\n",
      "|name_13476839|\n",
      "|name_17763432|\n",
      "|name_28008070|\n",
      "|name_96185390|\n",
      "|name_57503129|\n",
      "|name_57494273|\n",
      "|name_12823211|\n",
      "|name_11804110|\n",
      "| name_6666339|\n",
      "|name_88420324|\n",
      "|name_15882360|\n",
      "|name_12505146|\n",
      "|name_77384750|\n",
      "|name_38315514|\n",
      "+-------------+\n",
      "only showing top 20 rows\n",
      "\n"
     ]
    }
   ],
   "source": [
    "df_joined[df_joined['tag'] == 'Sport'].select('ФИО').distinct().show()"
   ]
  },
  {
   "cell_type": "markdown",
   "id": "30888fb5",
   "metadata": {
    "pycharm": {
     "name": "#%% md\n"
    }
   },
   "source": [
    " # Выведите 10% ЛК, у которых максимальная разница между датой создания ЛК и датой последнего посещения. "
   ]
  },
  {
   "cell_type": "code",
   "execution_count": 18,
   "id": "0d1d80bd",
   "metadata": {
    "pycharm": {
     "name": "#%%\n"
    }
   },
   "outputs": [
    {
     "name": "stdout",
     "output_type": "stream",
     "text": [
      "+--------+\n",
      "|      Id|\n",
      "+--------+\n",
      "|57503129|\n",
      "|12505146|\n",
      "+--------+\n",
      "only showing top 2 rows\n",
      "\n"
     ]
    }
   ],
   "source": [
    "df_joined.select('Id', 'creation_date', 'timestamp')\\\n",
    ".withColumn('intv', F.col('timestamp') - F.unix_timestamp('creation_date', 'yyyy-MM-dd'))\\\n",
    ".groupBy('Id').agg(F.max('intv').alias('intv'))\\\n",
    ".sort(F.col('intv').desc())\\\n",
    ".select('Id').show(int(0.1 * df_joined.select('Id').distinct().count()))"
   ]
  },
  {
   "cell_type": "markdown",
   "id": "22ebfda1",
   "metadata": {
    "pycharm": {
     "name": "#%% md\n"
    }
   },
   "source": [
    "# Вывести топ-5 страниц, которые чаще всего посещают мужчины и топ-5 страниц, которые посещают чаще женщины"
   ]
  },
  {
   "cell_type": "code",
   "execution_count": 19,
   "id": "79b80f1e",
   "metadata": {
    "pycharm": {
     "name": "#%%\n"
    }
   },
   "outputs": [
    {
     "name": "stdout",
     "output_type": "stream",
     "text": [
      "ТОП-5 страниц женщины\n",
      "+-------+-----+\n",
      "|page_id|count|\n",
      "+-------+-----+\n",
      "|    103|   23|\n",
      "|    112|   19|\n",
      "|    113|   19|\n",
      "|    107|   19|\n",
      "|    111|   17|\n",
      "+-------+-----+\n",
      "only showing top 5 rows\n",
      "\n"
     ]
    }
   ],
   "source": [
    "print('ТОП-5 страниц женщины')\n",
    "df_joined[df_joined.gender == 'F']\\\n",
    ".groupBy('page_id').agg(F.count('id').alias('count'))\\\n",
    ".sort(F.col('count').desc())\\\n",
    ".show(5)"
   ]
  },
  {
   "cell_type": "code",
   "execution_count": 20,
   "id": "2aa86e03",
   "metadata": {
    "pycharm": {
     "name": "#%%\n"
    }
   },
   "outputs": [
    {
     "name": "stdout",
     "output_type": "stream",
     "text": [
      "ТОП-5 страниц мужчины\n",
      "+-------+-----+\n",
      "|page_id|count|\n",
      "+-------+-----+\n",
      "|    112|   19|\n",
      "|    101|   16|\n",
      "|    107|   16|\n",
      "|    115|   16|\n",
      "|    119|   16|\n",
      "+-------+-----+\n",
      "only showing top 5 rows\n",
      "\n"
     ]
    }
   ],
   "source": [
    "print('ТОП-5 страниц мужчины')\n",
    "df_joined[df_joined.gender == 'M']\\\n",
    ".groupBy('page_id').agg(F.count('id').alias('count'))\\\n",
    ".sort(F.col('count').desc())\\\n",
    ".show(5)"
   ]
  }
 ],
 "metadata": {
  "kernelspec": {
   "display_name": "Python 3.8.2 32-bit",
   "language": "python",
   "name": "python3"
  },
  "language_info": {
   "codemirror_mode": {
    "name": "ipython",
    "version": 3
   },
   "file_extension": ".py",
   "mimetype": "text/x-python",
   "name": "python",
   "nbconvert_exporter": "python",
   "pygments_lexer": "ipython3",
   "version": "3.8.2"
  },
  "toc": {
   "base_numbering": 1,
   "nav_menu": {},
   "number_sections": true,
   "sideBar": true,
   "skip_h1_title": false,
   "title_cell": "Table of Contents",
   "title_sidebar": "Contents",
   "toc_cell": false,
   "toc_position": {},
   "toc_section_display": true,
   "toc_window_display": false
  },
  "vscode": {
   "interpreter": {
    "hash": "6d1e45cadc3597bb8b6600530fbdf8c3eefe919a24ef54d9d32b318795b772e0"
   }
  }
 },
 "nbformat": 4,
 "nbformat_minor": 5
}